{
  "nbformat": 4,
  "nbformat_minor": 0,
  "metadata": {
    "colab": {
      "name": "airpassenger.ipynb",
      "version": "0.3.2",
      "provenance": [],
      "collapsed_sections": [],
      "toc_visible": true,
      "include_colab_link": true
    },
    "kernelspec": {
      "name": "python3",
      "display_name": "Python 3"
    },
    "accelerator": "GPU"
  },
  "cells": [
    {
      "cell_type": "markdown",
      "metadata": {
        "id": "view-in-github",
        "colab_type": "text"
      },
      "source": [
        "<a href=\"https://colab.research.google.com/github/amozher/airplane-passenger/blob/master/airpassenger.ipynb\" target=\"_parent\"><img src=\"https://colab.research.google.com/assets/colab-badge.svg\" alt=\"Open In Colab\"/></a>"
      ]
    },
    {
      "metadata": {
        "id": "WZSS5SQTUPac",
        "colab_type": "text"
      },
      "cell_type": "markdown",
      "source": [
        "**Import libraries**"
      ]
    },
    {
      "metadata": {
        "id": "KmE1rUR4SeJi",
        "colab_type": "code",
        "colab": {}
      },
      "cell_type": "code",
      "source": [
        "import tensorflow as tf\n",
        "from keras.models import Sequential\n",
        "from keras.layers import Dense\n",
        "from tensorflow.keras import layers\n",
        "import numpy as np\n",
        "import matplotlib.pyplot as plt\n",
        "import pandas as pd\n",
        "from google.colab import files\n",
        "tf.test.gpu_device_name()"
      ],
      "execution_count": 0,
      "outputs": []
    },
    {
      "metadata": {
        "id": "TywvZh0gU21H",
        "colab_type": "text"
      },
      "cell_type": "markdown",
      "source": [
        "** Import data**"
      ]
    },
    {
      "metadata": {
        "id": "gO-BvSJzU_qB",
        "colab_type": "code",
        "colab": {}
      },
      "cell_type": "code",
      "source": [
        "uploaded= files.upload()"
      ],
      "execution_count": 0,
      "outputs": []
    },
    {
      "metadata": {
        "id": "fooWSAOpllbf",
        "colab_type": "code",
        "colab": {}
      },
      "cell_type": "code",
      "source": [
        "\n",
        "df = pd.read_csv('international-airline-passengers.csv', parse_dates=True,index_col=0)\n",
        "\n",
        "df=df.sort_index(ascending=0)\n",
        "# créer des colonnes pour t-1, t-2,t-3,t-4\n",
        "df['Qt-1'] = df['Quantity'].shift(-1)\n",
        "df['Qt-2'] = df['Quantity'].shift(-2)\n",
        "df['Qt-3'] = df['Quantity'].shift(-3)\n",
        "df['Qt-4'] = df['Quantity'].shift(-4)\n",
        "df=df.dropna()\n",
        "\n",
        "print(df.tail())"
      ],
      "execution_count": 0,
      "outputs": []
    },
    {
      "metadata": {
        "id": "onK5MbvnmU8N",
        "colab_type": "text"
      },
      "cell_type": "markdown",
      "source": [
        "**Afficher graph **"
      ]
    },
    {
      "metadata": {
        "id": "PgFpyFGomet2",
        "colab_type": "code",
        "colab": {}
      },
      "cell_type": "code",
      "source": [
        "fig, ax = plt.subplots(figsize=(17,7))\n",
        "df.plot(ax=ax)\n",
        "\n",
        "#set ticks every week\n",
        "\n",
        "ax.set_title('airplane passengers')\n",
        "ax.set_ylabel('Count')\n",
        "ax.set_xlabel('Date')\n",
        "plt.show()"
      ],
      "execution_count": 0,
      "outputs": []
    },
    {
      "metadata": {
        "id": "UMY4Vf3Emzvh",
        "colab_type": "text"
      },
      "cell_type": "markdown",
      "source": [
        "# **Créer le modele**"
      ]
    },
    {
      "metadata": {
        "id": "Ltcn_jrNm4gu",
        "colab_type": "code",
        "colab": {}
      },
      "cell_type": "code",
      "source": [
        "#Convertir les donées en arrays\n",
        "Y = np.array(df['Quantity'])\n",
        "X = np.array(df[['Qt-1','Qt-2','Qt-3','Qt-4']])\n",
        "\n",
        "# create model\n",
        "model = tf.keras.Sequential()\n",
        "#créer une couche de 4 input comme entré qui sont qt-1 jusqu'a qt-4 et 12 sortie  avec une fonction d'activation sigmoid\n",
        "model.add(layers.Dense(12, input_dim=4, activation='linear'))\n",
        "#créer une couche de 6 sortie  avec une fonction d'activation sigmoid\n",
        "#model.add(layers.Dense(6, activation='sigmoid',kernel_regularizer=tf.keras.regularizers.l1(0.01)))\n",
        "#créer une couche de 6 sortie  avec une fonction d'activation sigmoid\n",
        "#model.add(layers.Dense(64, activation='sigmoid'))\n",
        "#créer une couche de 6 sortie  avec une fonction d'activation linear\n",
        "model.add(layers.Dense(6, activation='linear',kernel_regularizer=tf.keras.regularizers.l1(0.01)))\n",
        "#créer une couche de 6 sortie  avec une fonction d'activation linear\n",
        "model.add(layers.Dense(6, activation='linear',kernel_regularizer=tf.keras.regularizers.l2(0.01)))\n",
        "#créer une couche de 6 sortie  avec une fonction d'activation linear\n",
        "model.add(layers.Dense(6, activation='linear',kernel_regularizer=tf.keras.regularizers.l1(0.01)))\n",
        "#créer une couche de 6 sortie  avec une fonction d'activation linear\n",
        "model.add(layers.Dense(6, activation='linear',kernel_regularizer=tf.keras.regularizers.l2(0.01)))\n",
        "#créer une couche de 6 sortie  avec une fonction d'activation linear\n",
        "model.add(layers.Dense(6, activation='linear',kernel_regularizer=tf.keras.regularizers.l1(0.01)))\n",
        "#créer une couche de 6 sortie  avec une fonction d'activation linear\n",
        "model.add(layers.Dense(6, activation='linear',kernel_regularizer=tf.keras.regularizers.l2(0.01)))\n",
        "#créer une couche de 1 sortie qui est Y ou bien Qt désiré avec une fonction d'activation linear\n",
        "model.add(layers.Dense(1, activation='linear'))"
      ],
      "execution_count": 0,
      "outputs": []
    },
    {
      "metadata": {
        "id": "8f9LNxDInFRu",
        "colab_type": "text"
      },
      "cell_type": "markdown",
      "source": [
        "# **Compiler**"
      ]
    },
    {
      "metadata": {
        "id": "bT3A0jOJnJKG",
        "colab_type": "code",
        "colab": {}
      },
      "cell_type": "code",
      "source": [
        "# Compile model\n",
        "#Ici J'ai utilisé MSE pour la fonction loss et optimization avec algorithm 'adam'\n",
        "model.compile(loss=tf.keras.losses.mean_squared_error, optimizer='adadelta', metrics=['accuracy'])\n",
        "# Fit the model\n",
        "#Ici je lui donne de faire 100 iteration\n",
        "model.fit(X, Y, epochs=1000,batch_size=10)\n"
      ],
      "execution_count": 0,
      "outputs": []
    },
    {
      "metadata": {
        "id": "23lJRrD9pFhw",
        "colab_type": "text"
      },
      "cell_type": "markdown",
      "source": [
        "# **Evaluer le modèle**"
      ]
    },
    {
      "metadata": {
        "id": "VQ527TZApOxG",
        "colab_type": "code",
        "colab": {}
      },
      "cell_type": "code",
      "source": [
        "# evaluate the model\n",
        "scores = model.evaluate(X, Y)\n",
        "print(\"\\n%s: %.2f%%\" % (model.metrics_names[1], scores[1]*100))"
      ],
      "execution_count": 0,
      "outputs": []
    },
    {
      "metadata": {
        "id": "F1K15yVEpdEv",
        "colab_type": "text"
      },
      "cell_type": "markdown",
      "source": [
        "# **Calculer la prédiction**"
      ]
    },
    {
      "metadata": {
        "id": "GoUZCUOPpiWm",
        "colab_type": "code",
        "colab": {}
      },
      "cell_type": "code",
      "source": [
        "Ynew = model.predict(X)\n",
        "df['Ynew']=Ynew\n",
        "\n",
        "#afficher la prédiction\n",
        "fig1, ax1 = plt.subplots(figsize=(17,7))\n",
        "df.plot(ax=ax1,x=df.index, y=[\"Quantity\", \"Ynew\"])\n",
        "ax1.set_title('airplane passengers prediction')\n",
        "ax1.set_ylabel('Count')\n",
        "ax1.set_xlabel('Date')\n",
        "\n",
        "plt.show()"
      ],
      "execution_count": 0,
      "outputs": []
    }
  ]
}